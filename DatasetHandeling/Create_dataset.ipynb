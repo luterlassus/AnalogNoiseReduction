{
 "cells": [
  {
   "cell_type": "markdown",
   "metadata": {},
   "source": [
    "# Dataset creation notebook\n",
    "Syncing the datasets correctly is important for training performance. The DVR recorded in FPV-googles does not have a fixed framerate. In this notebook, frames are synched by matching the frames with the lowest MSE. This notebook also resizes the hires video to native DVR res. Output is saved as a four dimentional npy file. \n",
    "### Imports\n",
    "cv2 is used for reading video files, numpy for matrices, skimage for resizing the hires video and matplotlib for viewing frames."
   ]
  },
  {
   "cell_type": "code",
   "execution_count": 1,
   "metadata": {},
   "outputs": [],
   "source": [
    "import cv2\n",
    "import numpy as np\n",
    "from skimage.transform import resize\n",
    "import matplotlib.pyplot as plt"
   ]
  },
  {
   "cell_type": "markdown",
   "metadata": {},
   "source": [
    "Simple functions for showing frames. The first shows a single frame, the other one shows 25 frames. Useful for finding how far into the hires video the DVR starts."
   ]
  },
  {
   "cell_type": "code",
   "execution_count": 6,
   "metadata": {},
   "outputs": [],
   "source": [
    "def showFrame(frame, title = 'Frame', show = True):\n",
    "    \"\"\" Shows a single frame \"\"\"\n",
    "    plt.imshow(frame)\n",
    "    plt.title(title)\n",
    "    if show:\n",
    "        plt.show()\n",
    "        \n",
    "\n",
    "def showBatch(vid):\n",
    "    \"\"\" Shows 25 frames in a grid \"\"\"\n",
    "    plt.figure(figsize=(10,10))\n",
    "    for n in range(25):\n",
    "        ax = plt.subplot(5,5,n+1)\n",
    "        plt.imshow(vid[n])\n",
    "        plt.title(n)\n",
    "        plt.axis('off')\n",
    "    plt.show()"
   ]
  },
  {
   "cell_type": "markdown",
   "metadata": {},
   "source": [
    "Simple progressbar, not mine. Got it from https://gist.github.com/aubricus/f91fb55dc6ba5557fbab06119420dd6a#file-print_progress-py"
   ]
  },
  {
   "cell_type": "code",
   "execution_count": 7,
   "metadata": {},
   "outputs": [],
   "source": [
    "def printProgressBar (iteration, total, prefix = '', suffix = '', decimals = 1, length = 100, fill = '█', printEnd = \"\\r\"):\n",
    "    \"\"\"\n",
    "    Call in a loop to create terminal progress bar\n",
    "    @params:\n",
    "        iteration   - Required  : current iteration (Int)\n",
    "        total       - Required  : total iterations (Int)\n",
    "        prefix      - Optional  : prefix string (Str)\n",
    "        suffix      - Optional  : suffix string (Str)\n",
    "        decimals    - Optional  : positive number of decimals in percent complete (Int)\n",
    "        length      - Optional  : character length of bar (Int)\n",
    "        fill        - Optional  : bar fill character (Str)\n",
    "        printEnd    - Optional  : end character (e.g. \"\\r\", \"\\r\\n\") (Str)\n",
    "    \"\"\"\n",
    "    percent = (\"{0:.\" + str(decimals) + \"f}\").format(100 * (iteration / float(total)))\n",
    "    filledLength = int(length * iteration // total)\n",
    "    bar = fill * filledLength + '-' * (length - filledLength)\n",
    "    print(f'\\r{prefix} |{bar}| {percent}% {suffix}', end = printEnd)\n",
    "    # Print New Line on Complete\n",
    "    if iteration == total: \n",
    "        print()"
   ]
  },
  {
   "cell_type": "markdown",
   "metadata": {},
   "source": [
    "Simple function that imports a video file using cv2. The outputed file is of shape frames height width 3"
   ]
  },
  {
   "cell_type": "code",
   "execution_count": 9,
   "metadata": {},
   "outputs": [],
   "source": [
    "def importVideo(filename, start, length, cx, cw, cy, ch):        \n",
    "    \"\"\" Import a video file using cv2. Input filename, startframe, length in frames, startx, width, starty and height in pixels\"\"\"\n",
    "    stop = start + length\n",
    "    cap = cv2.VideoCapture(filename)\n",
    "    filelen = int(cap.get(cv2.CAP_PROP_FRAME_COUNT))\n",
    "    if stop < filelen:\n",
    "        frameCount = stop\n",
    "    else:\n",
    "        frameCount = filelen\n",
    "        print(filename, \" is not longer than spesified length, full video is loaded\")\n",
    "\n",
    "    frameWidth = int(cap.get(cv2.CAP_PROP_FRAME_WIDTH))\n",
    "    frameHeight = int(cap.get(cv2.CAP_PROP_FRAME_HEIGHT))\n",
    "    buf = np.empty((length, frameHeight, frameWidth, 3), np.dtype('uint8'))\n",
    "    cap.set(cv2.CAP_PROP_POS_FRAMES, start)\n",
    "    fc = start\n",
    "    p = 0\n",
    "    ret = True\n",
    "    print('loading', filename)\n",
    "    while (fc < frameCount  and ret):\n",
    "        if fc > start:\n",
    "            printProgressBar(fc, frameCount, prefix = 'Loading:', suffix = 'Complete', length = 50)\n",
    "            ret, buf[p] = cap.read()\n",
    "            buf[p] = cv2.cvtColor(buf[p], cv2.COLOR_BGR2RGB)\n",
    "            p += 1\n",
    "        else:\n",
    "            printProgressBar(fc, frameCount, prefix = 'Setting up:', suffix = 'Complete', length = 50)\n",
    "            cap.read()\n",
    "        fc += 1\n",
    "\n",
    "    cap.release()\n",
    "    return buf[:stop, cy:ch, cx:cw, :]"
   ]
  },
  {
   "cell_type": "markdown",
   "metadata": {},
   "source": [
    "The following cell defines some variables used for loading the videos."
   ]
  },
  {
   "cell_type": "code",
   "execution_count": 13,
   "metadata": {},
   "outputs": [],
   "source": [
    "loResFilePath = \"./BETADVR/PICT0037.AVI\"\n",
    "hiResFilePath = \"./BETADVR/CADDX000012.MP4\"\n",
    "#           StartF Len in frames  x  width y  height\n",
    "loResDim = [4180 , 1000         , 0, 640 , 0, 480 ]\n",
    "hiResDim = [19540, 2*loResDim[1], 0, 1920, 0, 1080]"
   ]
  },
  {
   "cell_type": "markdown",
   "metadata": {},
   "source": [
    "In the folowing cell, a lowres video and a highres video is loaded into memory. The timestamp of the lowres video is showed for 25 frames to make synching easier. Comment out the high res loading to only see the timestamp and a sample frame. "
   ]
  },
  {
   "cell_type": "code",
   "execution_count": null,
   "metadata": {},
   "outputs": [],
   "source": [
    "X  = importVideo(loResFilePath, loResDim[0], loResDim[1], loResDim[2], loResDim[3], loResDim[4], loResDim[5])\n",
    "HR = importVideo(hiResFilePath, hiResDim[0], hiResDim[1], hiResDim[2], hiResDim[3], hiResDim[4], hiResDim[5])\n",
    "showBatch(X[: , :40, 590:, :]) #\n",
    "showFrame(X[0], 'frame')"
   ]
  },
  {
   "cell_type": "markdown",
   "metadata": {},
   "source": [
    "The dtype should be uint8 for both arrays. HR is about double the length of X"
   ]
  },
  {
   "cell_type": "code",
   "execution_count": null,
   "metadata": {},
   "outputs": [],
   "source": [
    "print(X.dtype, X.shape, HR.dtype, HR.shape)"
   ]
  },
  {
   "cell_type": "markdown",
   "metadata": {},
   "source": [
    "The first frames should be almost the same. The getFirstFrame function finds the first match if the lowres video starts after the highres video, but time and memory is wasted if the gap is large."
   ]
  },
  {
   "cell_type": "code",
   "execution_count": null,
   "metadata": {},
   "outputs": [],
   "source": [
    "showFrame(X[0, :, :, :])\n",
    "showFrame(HR[0, :, :, :])"
   ]
  },
  {
   "cell_type": "markdown",
   "metadata": {},
   "source": [
    "The resize function from skimage is used to resize the highres video down to the lowres videos dimentions. Replace this function with one that utilizes GPU if you know of one."
   ]
  },
  {
   "cell_type": "code",
   "execution_count": null,
   "metadata": {},
   "outputs": [],
   "source": [
    "Y = []\n",
    "rn = 0\n",
    "print(\"Reshaping video to fit NN\")\n",
    "for row in HR:\n",
    "    printProgressBar(rn, len(HR), prefix = 'Progress:', suffix = 'Complete', length = 50)\n",
    "    Y.append(resize(HR[rn], (480, 640, 3)))\n",
    "    rn += 1"
   ]
  },
  {
   "cell_type": "markdown",
   "metadata": {},
   "source": [
    "The new Y variable is now in float format, and it is no longer use for HR"
   ]
  },
  {
   "cell_type": "code",
   "execution_count": null,
   "metadata": {},
   "outputs": [],
   "source": [
    "HR = None\n",
    "del HR\n",
    "Y = np.array(Y)\n",
    "Y = Y * 256\n",
    "Y = Y.astype(int)\n",
    "print(Y.shape)\n",
    "print(X.shape)"
   ]
  },
  {
   "cell_type": "markdown",
   "metadata": {},
   "source": [
    "Matching the datasets comes down to getting the frame with the lowest MSE. Only checking a fixed number of frames makes execution way faster, while the risk of getting the correct frame is high. Checking the entire hiRes set would make execution time exponential instead of linear. If the drone is still in the air, and the captured frames are simalar, the MSE might be lowest on the same frames. Double matches gets printet. These are to be expected, but should be investigated. \n",
    "\n",
    "The matrix operations could be executed faster using GPU acceleration. "
   ]
  },
  {
   "cell_type": "code",
   "execution_count": null,
   "metadata": {},
   "outputs": [],
   "source": [
    "def getFirstFrame(X, Y):\n",
    "    \"\"\" Calculates the MSE between the first loRes frame and all the hiRes frames. Returns the position of the frame with the lowest MSE \"\"\"\n",
    "    sumDelta = np.zeros(len(Y))\n",
    "    for i in range(len(Y)):\n",
    "        sumDelta[i] = (( Y[i] - X[0])**2).mean(axis=None)\n",
    "    print('First frame: ', np.argmin(sumDelta))\n",
    "    return np.argmin(sumDelta)\n",
    "\n",
    "def matchDataset(X, Y):\n",
    "    \"\"\" Matches each loRes frame with a hiRes frame. Adjust windowsize if it does not work \"\"\"\n",
    "    lastframe = getFirstFrame(X, Y)\n",
    "    y = np.empty((len(X), len(X[0]), len(X[0, 0]), len(X[0, 0, 0])), np.dtype('uint8'))\n",
    "    y[0] = Y[lastframe]\n",
    "    frames = np.zeros(len(X))\n",
    "    for i in range(len(X)):\n",
    "        sumDelta = np.zeros(8)\n",
    "        for j in range(len(sumDelta)):\n",
    "            sumDelta[j] = ((X[i] - Y[j + lastframe])**2).mean(axis=None)\n",
    "        currF = np.argmin(sumDelta)\n",
    "        lastframe = currF + lastframe\n",
    "        if currF == 0:\n",
    "            print('Doublematched:', i, ' and ', lastframe)\n",
    "        elif currF > 6:\n",
    "            print('Skipped 7 frames. Check out frame ', i)\n",
    "        frames[i] = lastframe\n",
    "        y[i] = Y[lastframe]\n",
    "        printProgressBar(i, len(X), prefix = 'Matching datasets:', suffix = 'Complete', length = 50)\n",
    "    return frames, y\n",
    "\n",
    "frames, y = matchDataset(X, Y)"
   ]
  },
  {
   "cell_type": "markdown",
   "metadata": {},
   "source": [
    "Try running the following cell with different frames. There shall be no diffrences exept the noise visable to the human eye"
   ]
  },
  {
   "cell_type": "code",
   "execution_count": null,
   "metadata": {},
   "outputs": [],
   "source": [
    "frame = 1 \n",
    "showFrame( y[frame, 60:420, :, :], 'Y')\n",
    "showFrame( X[frame, 60:420, :, :], 'X')\n",
    "showFrame( y[frame, 60:420, :, :] - X[frame, 60:420, :, :], 'Delta' )\n",
    "print(X.shape, y.shape)"
   ]
  },
  {
   "cell_type": "markdown",
   "metadata": {},
   "source": [
    "Save the dataset using fitting names. Cut off the last few frames as they usualy are compleatly unusable. We do not need the extra frames anymore"
   ]
  },
  {
   "cell_type": "code",
   "execution_count": null,
   "metadata": {},
   "outputs": [],
   "source": [
    "np.save('NAME_NUM_UINT8Y', y[:-2,60:420, :, :])\n",
    "np.save('NAME_NUM_UINT8X', X[:-2,60:420, :, :])"
   ]
  }
 ],
 "metadata": {
  "kernelspec": {
   "display_name": "Python 3",
   "language": "python",
   "name": "python3"
  },
  "language_info": {
   "codemirror_mode": {
    "name": "ipython",
    "version": 3
   },
   "file_extension": ".py",
   "mimetype": "text/x-python",
   "name": "python",
   "nbconvert_exporter": "python",
   "pygments_lexer": "ipython3",
   "version": "3.6.9"
  }
 },
 "nbformat": 4,
 "nbformat_minor": 4
}
