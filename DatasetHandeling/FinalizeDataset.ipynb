{
 "cells": [
  {
   "cell_type": "markdown",
   "metadata": {},
   "source": [
    "### Finalize dataset\n",
    "Notebook for finalizing datasets. Input files of type X.npy, Y.npy. Notebook functionality includes loading npy files, spliting datasets per color chanel, adding frames before and after each frame, removing every f frames, adjusting brtightness and saving output as TFRecords."
   ]
  },
  {
   "cell_type": "code",
   "execution_count": null,
   "metadata": {},
   "outputs": [],
   "source": [
    "import numpy as np\n",
    "import matplotlib.pyplot as plt\n",
    "import tensorflow as tf\n",
    "%run npyToTFRecord"
   ]
  },
  {
   "cell_type": "code",
   "execution_count": null,
   "metadata": {},
   "outputs": [],
   "source": [
    "datasets = ['Skogen', 'Hagen', 'Hytta']\n",
    "numFiles = [7,         4,       4     ]\n",
    "INPUTDIR = '../../Datasets/DVRUP_1f_UINT8_82020/'\n",
    "OUTPUTDIR = '../../Datasets/DVRUP_normalized_conv2d/'"
   ]
  },
  {
   "cell_type": "code",
   "execution_count": null,
   "metadata": {},
   "outputs": [],
   "source": [
    "keepE = 0\n",
    "framesBF = 1\n",
    "framesAF = 1\n",
    "chan = 1\n",
    "frames = framesBF + 1 + framesAF"
   ]
  },
  {
   "cell_type": "code",
   "execution_count": null,
   "metadata": {},
   "outputs": [],
   "source": [
    "def getInputFiles(d, n):\n",
    "    ds = []\n",
    "    for i in range(len(d)):\n",
    "        for j in range(1, 1 + n[i]):\n",
    "            ds.append(d[i] + str(j))\n",
    "    return ds"
   ]
  },
  {
   "cell_type": "code",
   "execution_count": null,
   "metadata": {},
   "outputs": [],
   "source": [
    "def loadDS(dsList, num):\n",
    "    datasetName = dsList[num]\n",
    "    x = np.load(INPUTDIR + datasetName + 'DUINT8X.npy')\n",
    "    y = np.load(INPUTDIR + datasetName + 'DUINT8Y.npy')\n",
    "    print('Loaded dataset ', datasetName, ' of size: ', x.shape, y.shape)\n",
    "    return x, y"
   ]
  },
  {
   "cell_type": "code",
   "execution_count": null,
   "metadata": {},
   "outputs": [],
   "source": [
    "def getFramesAround(DS, num, fbf = 1, faf = 1):\n",
    "    \"\"\" Returns a matrix with the fbf frames before and the faf frames after frame number num \"\"\"\n",
    "    return np.stack(DS[(num-fbf):(1+num+faf)], axis = 2)\n",
    "\n",
    "def reshapeDStoFBF(X, Y, fbf = 1, faf = 1):\n",
    "    \"\"\" Reshapes the dataset so that each entry contains the fbf frames before and faf frames after the entry \"\"\"\n",
    "    Y = Y[fbf:(-1 * faf)]\n",
    "    yprsh = Y.shape\n",
    "    Y = Y.reshape(yprsh[0], yprsh[1], yprsh[2], 1)\n",
    "    rn = fbf\n",
    "    buf =  np.empty((len(X) - (faf + fbf), len(X[0]), len(X[0][0]),frames), np.dtype('uint8'))\n",
    "    #bufy = np.empty((len(Y) - (faf + fbf), len(Y[0]), len(Y[0][0]),frames), np.dtype('uint8'))\n",
    "    for i in range(len(X) - (faf + fbf)):\n",
    "        buf[rn - fbf] = getFramesAround(X, rn,fbf,faf)\n",
    "        #bufy[rn - fbf] = getFramesAround(Y, rn,fbf,faf)\n",
    "        rn += 1\n",
    "    print('Reshaped dataset to size: ', buf.shape, ' Y:', Y.shape) #bufy.shape)\n",
    "    return buf, Y #, bufy"
   ]
  },
  {
   "cell_type": "code",
   "execution_count": null,
   "metadata": {},
   "outputs": [],
   "source": [
    "def keepEach(X, Y, num):\n",
    "    \"\"\" Returns new x and y matreces that only contains evry num frame of the originals \"\"\"\n",
    "    t = 1\n",
    "    a = 0\n",
    "    nX = np.empty((int(len(X)/num), len(X[0]), len(X[0][0]), len(X[0][0][0])), np.dtype('uint8'))\n",
    "    nY = np.empty((int(len(Y)/num), len(Y[0]), len(Y[0][0]), len(Y[0][0][0])), np.dtype('uint8'))\n",
    "    for i in range(len(X)):\n",
    "        if (t == num):\n",
    "            nX[a] = X[i]\n",
    "            nY[a] = Y[i]\n",
    "            t = 1\n",
    "            a += 1\n",
    "        else:\n",
    "            t += 1\n",
    "    return nX, nY"
   ]
  },
  {
   "cell_type": "code",
   "execution_count": null,
   "metadata": {},
   "outputs": [],
   "source": [
    "def showFrame(frame, title = 'Frame', show = True):\n",
    "    plt.imshow(frame)\n",
    "    plt.title(title)\n",
    "    if show:\n",
    "        plt.show()\n",
    "        \n",
    "def showSampleEntry(frame, x, y, title):\n",
    "    for i in range(x.shape[3]):\n",
    "        plt.imshow(x[frame, :, :, i])\n",
    "        plt.title(title)\n",
    "        plt.show()\n",
    "    for i in range(y.shape[3]):\n",
    "        plt.imshow(y[frame, :, :, i])\n",
    "        plt.title(title)\n",
    "        plt.show()"
   ]
  },
  {
   "cell_type": "code",
   "execution_count": null,
   "metadata": {},
   "outputs": [],
   "source": [
    "dsFiles = getInputFiles(datasets, numFiles)\n",
    "sampleToShow = 50\n",
    "colors = ['r' , 'g', 'b']\n",
    "for i in range(len(dsFiles)):\n",
    "    #Loading one file of the dsFiles list. Expected shape (len, 360, 640, 3)\n",
    "    x, y = loadDS(dsFiles, i)\n",
    "    \n",
    "    #Each color chanel is normalized and saved seperatly using a for loop due do different mse and std. \n",
    "    for j in range(x.shape[3]):\n",
    "        xr, yr = reshapeDStoFBF(x[:, :, :, j], y[:, :, :, j], fbf = 1, faf = 1)\n",
    "        #Printing a sample entry:\n",
    "        showSampleEntry(sampleToShow, xr, yr, dsFiles[i])\n",
    "\n",
    "        #Converting to float32\n",
    "        xr = xr.astype(np.float32) / 255.0\n",
    "        yr = yr.astype(np.float32) / 255.0\n",
    "        print('Converted to float32')\n",
    "\n",
    "        #Normalizing by subtracting the mean value and dividing by the standard deviation\n",
    "        print('Normalizing dataset')\n",
    "        print('Mean values x: ', xr.mean(), 'y:', yr.mean())\n",
    "        print('Min values  x: ', xr.min(), 'y:', yr.min())\n",
    "        print('Max values  x: ', xr.max(), 'y:', yr.max())\n",
    "        print('Standard deviation: x:', x.std(), 'y:', yr.std())\n",
    "        xr = xr - xr.mean()\n",
    "        yr = yr - yr.mean()\n",
    "        xr = xr * xr.std()\n",
    "        yr = yr * yr.std()\n",
    "        print('Normalized dataset: ')\n",
    "        print('Mean values x: ', xr.mean(), 'y:', yr.mean())\n",
    "        print('Min values  x: ', xr.min(), 'y:', yr.min())\n",
    "        print('Max values  x: ', xr.max(), 'y:', yr.max())\n",
    "        print('Standard deviation: x:', x.std(), 'y:', yr.std())\n",
    "    \n",
    "        #Saving the normalized and reshaped dataset as a tfrecord. \n",
    "        convert(xr, yr, OUTPUTDIR + dsFiles[i] + colors[j] + '.tfrec')"
   ]
  },
  {
   "cell_type": "code",
   "execution_count": null,
   "metadata": {},
   "outputs": [],
   "source": []
  }
 ],
 "metadata": {
  "kernelspec": {
   "display_name": "Python 3",
   "language": "python",
   "name": "python3"
  },
  "language_info": {
   "codemirror_mode": {
    "name": "ipython",
    "version": 3
   },
   "file_extension": ".py",
   "mimetype": "text/x-python",
   "name": "python",
   "nbconvert_exporter": "python",
   "pygments_lexer": "ipython3",
   "version": "3.6.9"
  }
 },
 "nbformat": 4,
 "nbformat_minor": 4
}
